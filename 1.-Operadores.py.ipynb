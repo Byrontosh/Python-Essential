{
 "cells": [
  {
   "cell_type": "markdown",
   "id": "d1fd9a57",
   "metadata": {},
   "source": [
    "# 1.-Operadores.py"
   ]
  },
  {
   "cell_type": "code",
   "execution_count": 2,
   "id": "958dbb92",
   "metadata": {},
   "outputs": [
    {
     "name": "stdout",
     "output_type": "stream",
     "text": [
      "Suma 10\n",
      "Resta 0\n",
      "Multiplicación 25\n",
      "División 1.0\n",
      "División  parte entera 1\n",
      "Exponente 3125\n",
      "Módulo 0\n",
      "Ejercicio - Operadores matemáticos\n"
     ]
    }
   ],
   "source": [
    "print(\"Suma\",5+5)\n",
    "print(\"Resta\",5-5)\n",
    "print(\"Multiplicación\",5*5)\n",
    "print(\"División\",5/5)\n",
    "print(\"División  parte entera\",5//5)\n",
    "print(\"Exponente\",5**5)\n",
    "print(\"Módulo\",5%5)\n",
    "print(\"Ejercicio - Operadores matemáticos\")"
   ]
  },
  {
   "cell_type": "markdown",
   "id": "57952f6b",
   "metadata": {},
   "source": [
    "# 2.-Tipos de datos.py"
   ]
  },
  {
   "cell_type": "code",
   "execution_count": 4,
   "id": "b5e4e775",
   "metadata": {},
   "outputs": [
    {
     "data": {
      "text/plain": [
       "bool"
      ]
     },
     "execution_count": 4,
     "metadata": {},
     "output_type": "execute_result"
    }
   ],
   "source": [
    "type(34)\n",
    "type(False)"
   ]
  },
  {
   "cell_type": "markdown",
   "id": "97de1023",
   "metadata": {},
   "source": [
    "# 1.-Operadores de comparación.py"
   ]
  },
  {
   "cell_type": "code",
   "execution_count": 5,
   "id": "94540bd0",
   "metadata": {},
   "outputs": [
    {
     "name": "stdout",
     "output_type": "stream",
     "text": [
      "----> False\n",
      "----> False\n",
      "----> True\n",
      "----> False\n",
      "----> True\n",
      "----> True\n"
     ]
    }
   ],
   "source": [
    "print(\"---->\",5>5)\n",
    "print(\"---->\",5<5)\n",
    "print(\"---->\",5==5)\n",
    "print(\"---->\",5!=5)\n",
    "print(\"---->\",5>=5)\n",
    "print(\"---->\",5<=5)"
   ]
  },
  {
   "cell_type": "code",
   "execution_count": 7,
   "id": "94bce86f",
   "metadata": {},
   "outputs": [
    {
     "data": {
      "text/plain": [
       "'Hola Hola Hola Hola Hola '"
      ]
     },
     "execution_count": 7,
     "metadata": {},
     "output_type": "execute_result"
    }
   ],
   "source": [
    "texto=\"Hola \"\n",
    "texto*5"
   ]
  },
  {
   "cell_type": "code",
   "execution_count": 9,
   "id": "b6f59476",
   "metadata": {},
   "outputs": [
    {
     "data": {
      "text/plain": [
       "('Byron', ' ', 'Loarte')"
      ]
     },
     "execution_count": 9,
     "metadata": {},
     "output_type": "execute_result"
    }
   ],
   "source": [
    "data1=\"Byron\"\n",
    "data2=\"Loarte\"\n",
    "data3=\" \"\n",
    "data1+data3+data2\n",
    "data1,data3,data2"
   ]
  },
  {
   "cell_type": "markdown",
   "id": "a54d060d",
   "metadata": {},
   "source": [
    "## Conversión"
   ]
  },
  {
   "cell_type": "code",
   "execution_count": 11,
   "id": "3c674f6c",
   "metadata": {},
   "outputs": [
    {
     "data": {
      "text/plain": [
       "'El valor de la variable x es 5'"
      ]
     },
     "execution_count": 11,
     "metadata": {},
     "output_type": "execute_result"
    }
   ],
   "source": [
    "x=5\n",
    "\"El valor de la variable x es \"+str(x)"
   ]
  },
  {
   "cell_type": "code",
   "execution_count": 21,
   "id": "e6dd06bd",
   "metadata": {},
   "outputs": [
    {
     "name": "stdout",
     "output_type": "stream",
     "text": [
      "5.963414634146342\n",
      "5.96\n",
      "5.9634146341463419\n"
     ]
    }
   ],
   "source": [
    "data = 489/82\n",
    "print(data)\n",
    "print(\"{:.2f}\".format(data))\n",
    "print(\"{:.16f}\".format(data))"
   ]
  },
  {
   "cell_type": "markdown",
   "id": "c6448500",
   "metadata": {},
   "source": [
    "## Listas y Diccionarios"
   ]
  },
  {
   "cell_type": "code",
   "execution_count": 22,
   "id": "0387564c",
   "metadata": {},
   "outputs": [
    {
     "name": "stdout",
     "output_type": "stream",
     "text": [
      "Lista 2.5\n",
      "\n",
      "Lista (5, 6, 7, 'Hola', 2.5, [7, 8, 9])\n",
      "\n",
      "tamaño de la lista 5\n",
      "Loarte\n"
     ]
    }
   ],
   "source": [
    "lista =[1,2,3,\"Hola\",2.5,[7,8,9]]\n",
    "lista[5]=\"Tosh\"\n",
    "del lista[5]\n",
    "\n",
    "\n",
    "tupla=(5,6,7,\"Hola\",2.5,[7,8,9])\n",
    "#tupla[0]=123\n",
    "#del tupla[3]\n",
    "\n",
    "\n",
    "\n",
    "\n",
    "print(\"Lista\",lista[-1])\n",
    "print()\n",
    "print(\"Lista\",tupla)\n",
    "print()\n",
    "print(\"tamaño de la lista\",len(lista))\n",
    "\n",
    "\n",
    "\n",
    "dic={\"name\":\"Byron\",\"lastName\":\"Loarte\",\"age\":35}\n",
    "print(dic[\"lastName\"])\n",
    "\n",
    "\n"
   ]
  },
  {
   "cell_type": "code",
   "execution_count": 33,
   "id": "7fc43404",
   "metadata": {},
   "outputs": [
    {
     "name": "stdout",
     "output_type": "stream",
     "text": [
      "['Brazil', 'Russia', 'India', 'China', 'South Africa']\n",
      "{'Brazil': 'Brasilia', 'Russia': 'Moscow', 'India': 'New Delhi', 'China': 'Beijing', 'South Africa': ['Pretoria', 'Cape Town', 'Bloemfontein']}\n",
      "Cape Town\n"
     ]
    }
   ],
   "source": [
    "# Create a list of the BRICS countries\n",
    "country = [ \n",
    "            \"Brazil\", \n",
    "            \"Russia\", \n",
    "            \"India\", \n",
    "            \"China\", \n",
    "            \"South Africa\"\n",
    "          ]\n",
    "\n",
    "\"\"\"Create a dictionary of BRICS capitals.\n",
    "Note that South Africa has\n",
    " 3 capitals. Therefore, we embed a list inside\n",
    "the dictionary.\n",
    "\"\"\"\n",
    "\n",
    "capitals = {\n",
    "    \"Brazil\": \"Brasilia\",\n",
    "    \"Russia\": \"Moscow\",\n",
    "    \"India\": \"New Delhi\",\n",
    "    \"China\": \"Beijing\",\n",
    "    \"South Africa\": [\n",
    "                        \"Pretoria\",\n",
    "                        \"Cape Town\",\n",
    "                        \"Bloemfontein\"\n",
    "                    ]\n",
    "           }\n",
    "\n",
    "# Print the list and dictionary\n",
    "print(country)\n",
    "print(capitals)\n",
    "\"\"\"\n",
    "What response did you get?\n",
    "Why did the list and dictionary\n",
    " contents not print?\n",
    "Fix the code and run the script again.\n",
    "\"\"\"\n",
    "\n",
    "'''\n",
    "Why did you get an error for the\n",
    " 2nd capital of South Africa?\n",
    "Hint: Check the syntax for the index value.\n",
    "'''\n",
    "print(country)\n",
    "print(capitals)\n",
    "print( capitals[\"South Africa\"][1] )\n"
   ]
  },
  {
   "cell_type": "code",
   "execution_count": 35,
   "id": "02ec6ae1",
   "metadata": {},
   "outputs": [
    {
     "name": "stdout",
     "output_type": "stream",
     "text": [
      "Escribe tu nombre: Byron\n",
      "Hello Byron\n"
     ]
    }
   ],
   "source": [
    "firstName=input(\"Escribe tu nombre: \")\n",
    "print(\"Hello\",firstName)"
   ]
  },
  {
   "cell_type": "markdown",
   "id": "38ed9f8f",
   "metadata": {},
   "source": [
    "## Estructuras de decisión"
   ]
  },
  {
   "cell_type": "code",
   "execution_count": 44,
   "id": "96200fe1",
   "metadata": {},
   "outputs": [
    {
     "ename": "SyntaxError",
     "evalue": "invalid syntax. Perhaps you forgot a comma? (2334760222.py, line 1)",
     "output_type": "error",
     "traceback": [
      "\u001b[1;36m  Cell \u001b[1;32mIn[44], line 1\u001b[1;36m\u001b[0m\n\u001b[1;33m    if (Si hoy llueve):\u001b[0m\n\u001b[1;37m        ^\u001b[0m\n\u001b[1;31mSyntaxError\u001b[0m\u001b[1;31m:\u001b[0m invalid syntax. Perhaps you forgot a comma?\n"
     ]
    }
   ],
   "source": [
    "if (Si hoy llueve):\n",
    "    print(\"Llevo paraguas\")\n",
    "else:\n",
    "    print(\"Debo salir con camisate\")"
   ]
  },
  {
   "cell_type": "markdown",
   "id": "58af75fb",
   "metadata": {},
   "source": [
    "## Estructuras de repetición"
   ]
  },
  {
   "cell_type": "code",
   "execution_count": 54,
   "id": "808d9b33",
   "metadata": {},
   "outputs": [
    {
     "name": "stdout",
     "output_type": "stream",
     "text": [
      "a b c d 1\n",
      "2\n",
      "3\n",
      "4\n",
      "5\n"
     ]
    }
   ],
   "source": [
    "lista=[\"a\",\"b\",\"c\",\"d\"]\n",
    "for i in lista:\n",
    "    print(i,end=\" \")\n",
    "    \n",
    "for i in range(1,6):\n",
    "    print(i)"
   ]
  },
  {
   "cell_type": "code",
   "execution_count": 3,
   "id": "6ee86f9b",
   "metadata": {},
   "outputs": [
    {
     "name": "stdout",
     "output_type": "stream",
     "text": [
      "0\n",
      "1\n",
      "2\n",
      "3\n"
     ]
    }
   ],
   "source": [
    "lista=[\"R1\",\"R2\",\"R3\"]\n",
    "for i in range(0,len(lista)):\n",
    "    print(i)"
   ]
  },
  {
   "cell_type": "code",
   "execution_count": 10,
   "id": "7838d1dc",
   "metadata": {},
   "outputs": [
    {
     "name": "stdout",
     "output_type": "stream",
     "text": [
      "El resultado de la suma es de:  21\n"
     ]
    }
   ],
   "source": [
    "result=0\n",
    "n=6\n",
    "for i in range(1,n+1,1):\n",
    "    result+=i\n",
    "print(\"El resultado de la suma es de: \",result)"
   ]
  },
  {
   "cell_type": "code",
   "execution_count": 16,
   "id": "c2a4018d",
   "metadata": {},
   "outputs": [
    {
     "name": "stdout",
     "output_type": "stream",
     "text": [
      "10\n",
      "9\n",
      "8\n",
      "7\n",
      "6\n",
      "5\n",
      "4\n",
      "3\n",
      "2\n"
     ]
    }
   ],
   "source": [
    "for i in range(10,1,-1):\n",
    "    print(i)"
   ]
  },
  {
   "cell_type": "code",
   "execution_count": 17,
   "id": "f0f39aee",
   "metadata": {},
   "outputs": [
    {
     "name": "stdout",
     "output_type": "stream",
     "text": [
      "R1\n",
      "R2\n",
      "R3\n",
      "R4\n"
     ]
    }
   ],
   "source": [
    "devices=[\"R1\",\"R2\",\"R3\",\"R4\"]\n",
    "\n",
    "for i in devices:\n",
    "    print(i)"
   ]
  },
  {
   "cell_type": "code",
   "execution_count": 18,
   "id": "9ca6f54f",
   "metadata": {},
   "outputs": [
    {
     "name": "stdout",
     "output_type": "stream",
     "text": [
      "['R1', 'R2', 'R3']\n",
      "['S1', 'S2', 'AP1']\n"
     ]
    }
   ],
   "source": [
    "router=[]\n",
    "switches=[]\n",
    "devices=[\"R1\",\"R2\",\"R3\",\"S1\",\"S2\",\"AP1\"]\n",
    "for a in devices:\n",
    "    if \"R\" in a:\n",
    "        router.append(a)\n",
    "    else:\n",
    "        switches.append(a)\n",
    "print(router)\n",
    "print(switches)"
   ]
  },
  {
   "cell_type": "code",
   "execution_count": 20,
   "id": "24f33e93",
   "metadata": {},
   "outputs": [
    {
     "name": "stdout",
     "output_type": "stream",
     "text": [
      "Dame una  ['A']\n",
      "Dame una  ['M']\n",
      "Dame una  ['I']\n",
      "Dame una  ['G']\n",
      "Dame una  ['O']\n",
      "AMIGO\n"
     ]
    }
   ],
   "source": [
    "for j in \"AMIGO\":\n",
    "    print(\"Dame una \",[j])\n",
    "print(\"AMIGO\")"
   ]
  },
  {
   "cell_type": "code",
   "execution_count": 21,
   "id": "d7e020a8",
   "metadata": {},
   "outputs": [
    {
     "name": "stdout",
     "output_type": "stream",
     "text": [
      "Comienzo\n",
      "Hola Hola Hola Hola Hola \n",
      "Final\n"
     ]
    }
   ],
   "source": [
    "print(\"Comienzo\")\n",
    "for i in range(0,10,2):\n",
    "    print(\"Hola\",end=\" \")\n",
    "print()\n",
    "print(\"Final\")"
   ]
  },
  {
   "cell_type": "code",
   "execution_count": 23,
   "id": "75938b8a",
   "metadata": {},
   "outputs": [
    {
     "name": "stdout",
     "output_type": "stream",
     "text": [
      "Cuantas veces quiere que lo saludemos3\n",
      "Hola Hola Hola \n",
      "Adiós\n"
     ]
    }
   ],
   "source": [
    "veces = int(input(\"Cuantas veces quiere que lo saludemos\"))\n",
    "for i in range(1,veces+1):\n",
    "    print(\"Hola\",end=\" \")\n",
    "print()\n",
    "print(\"Adiós\")"
   ]
  },
  {
   "cell_type": "markdown",
   "id": "5114aa1c",
   "metadata": {},
   "source": [
    "## Módulos"
   ]
  },
  {
   "cell_type": "code",
   "execution_count": 1,
   "id": "ddf095e0",
   "metadata": {},
   "outputs": [
    {
     "name": "stdout",
     "output_type": "stream",
     "text": [
      "1.0\n"
     ]
    }
   ],
   "source": [
    "import math\n",
    "print(math.sin(math.pi/2))"
   ]
  },
  {
   "cell_type": "code",
   "execution_count": 2,
   "id": "b78b309e",
   "metadata": {},
   "outputs": [
    {
     "name": "stdout",
     "output_type": "stream",
     "text": [
      "1.0\n"
     ]
    }
   ],
   "source": [
    "from math import pi,sin\n",
    "print(sin(pi/2))"
   ]
  },
  {
   "cell_type": "code",
   "execution_count": 3,
   "id": "608ffde8",
   "metadata": {},
   "outputs": [
    {
     "name": "stdout",
     "output_type": "stream",
     "text": [
      "1.0\n"
     ]
    }
   ],
   "source": [
    "from math import *\n",
    "print(sin(pi/2))"
   ]
  },
  {
   "cell_type": "code",
   "execution_count": 8,
   "id": "7e7607ce",
   "metadata": {},
   "outputs": [
    {
     "name": "stdout",
     "output_type": "stream",
     "text": [
      "1.0\n"
     ]
    }
   ],
   "source": [
    "from math import sin as senito, pi\n",
    "print(senito(pi/2))"
   ]
  },
  {
   "cell_type": "code",
   "execution_count": 1,
   "id": "bddae26f",
   "metadata": {},
   "outputs": [
    {
     "name": "stdout",
     "output_type": "stream",
     "text": [
      "Yo quiero un modulo\n",
      "123\n",
      "9\n",
      "Ingrese el numero a calcular: 5\n",
      "0\n",
      "1\n",
      "1\n",
      "2\n",
      "3\n"
     ]
    }
   ],
   "source": [
    "%run modulo.ipynb\n",
    "\n",
    "print(data)\n",
    "\n",
    "print(suma(4,5))\n",
    "\n",
    "data = int(input(\"Ingrese el numero a calcular: \"))\n",
    "\n",
    "for i in range(data):\n",
    "    print(fibo(i))"
   ]
  },
  {
   "cell_type": "markdown",
   "id": "6b245c77",
   "metadata": {},
   "source": [
    "## Manejador de paquetes"
   ]
  },
  {
   "cell_type": "code",
   "execution_count": 12,
   "id": "a4f4649c",
   "metadata": {},
   "outputs": [
    {
     "name": "stdout",
     "output_type": "stream",
     "text": [
      "Collecting cowsay\n",
      "  Downloading cowsay-5.0.tar.gz (25 kB)\n",
      "  Preparing metadata (setup.py): started\n",
      "  Preparing metadata (setup.py): finished with status 'done'\n",
      "Building wheels for collected packages: cowsay\n",
      "  Building wheel for cowsay (setup.py): started\n",
      "  Building wheel for cowsay (setup.py): finished with status 'done'\n",
      "  Created wheel for cowsay: filename=cowsay-5.0-py2.py3-none-any.whl size=25734 sha256=85856c831f2e520b7409525316bae0d194328dbb0d4010845b5b180a5e0ea5af\n",
      "  Stored in directory: c:\\users\\byrontosh\\appdata\\local\\pip\\cache\\wheels\\5c\\c3\\23\\e1b93d2aca49a5ca6d298324e0eeaf6cea00b2c7894502c8c2\n",
      "Successfully built cowsay\n",
      "Installing collected packages: cowsay\n",
      "Successfully installed cowsay-5.0\n",
      "Note: you may need to restart the kernel to use updated packages.\n"
     ]
    }
   ],
   "source": [
    "pip install cowsay"
   ]
  },
  {
   "cell_type": "code",
   "execution_count": 14,
   "id": "8aebb0f7",
   "metadata": {},
   "outputs": [
    {
     "name": "stdout",
     "output_type": "stream",
     "text": [
      "  ______\n",
      "| Hello! |\n",
      "  ======\n",
      "      \\\n",
      "       \\\n",
      "         ^__^\n",
      "         (oo)\\_______\n",
      "         (__)\\       )\\/\\\n",
      "             ||----w |\n",
      "             ||     ||\n"
     ]
    }
   ],
   "source": [
    "import cowsay\n",
    "cowsay.cow('Hello!')"
   ]
  },
  {
   "cell_type": "markdown",
   "id": "3fcf43da",
   "metadata": {},
   "source": [
    "## Paquetes"
   ]
  },
  {
   "cell_type": "code",
   "execution_count": 25,
   "id": "7c67f3af",
   "metadata": {},
   "outputs": [
    {
     "ename": "ModuleNotFoundError",
     "evalue": "No module named 'tostadas_pipo'",
     "output_type": "error",
     "traceback": [
      "\u001b[1;31m---------------------------------------------------------------------------\u001b[0m",
      "\u001b[1;31mModuleNotFoundError\u001b[0m                       Traceback (most recent call last)",
      "Cell \u001b[1;32mIn[25], line 1\u001b[0m\n\u001b[1;32m----> 1\u001b[0m \u001b[38;5;28;01mfrom\u001b[39;00m \u001b[38;5;21;01mtostadas_pipo\u001b[39;00m\u001b[38;5;21;01m.\u001b[39;00m\u001b[38;5;21;01mprincipal\u001b[39;00m\u001b[38;5;21;01m.\u001b[39;00m\u001b[38;5;21;01mpy\u001b[39;00m \u001b[38;5;28;01mimport\u001b[39;00m \u001b[38;5;241m*\u001b[39m\n",
      "\u001b[1;31mModuleNotFoundError\u001b[0m: No module named 'tostadas_pipo'"
     ]
    }
   ],
   "source": [
    "from tostadas_pipo.principal.py import * "
   ]
  },
  {
   "cell_type": "markdown",
   "id": "d0be669a",
   "metadata": {},
   "source": [
    "## Manejo de errores"
   ]
  },
  {
   "cell_type": "code",
   "execution_count": 27,
   "id": "a893685d",
   "metadata": {},
   "outputs": [
    {
     "name": "stdout",
     "output_type": "stream",
     "text": [
      "Inicio del código\n",
      "--------- 1 ---------\n",
      "Algo no esta bien\n",
      "Fin del código\n"
     ]
    }
   ],
   "source": [
    "print(\"Inicio del código\")\n",
    "try:\n",
    "    print(\"--------- 1 ---------\")\n",
    "    x=1/3\n",
    "    print(\"--------- 2 ---------\")\n",
    "except:\n",
    "    print(\"Algo no esta bien\")\n",
    "print(\"Fin del código\")"
   ]
  },
  {
   "cell_type": "code",
   "execution_count": 32,
   "id": "1cb938d7",
   "metadata": {},
   "outputs": [
    {
     "name": "stdout",
     "output_type": "stream",
     "text": [
      "Enter a number: 7\n",
      "0.14285714285714285\n",
      "THE END.\n"
     ]
    }
   ],
   "source": [
    "try:\n",
    "    x = int(input(\"Enter a number: \"))\n",
    "    y = 1 / x\n",
    "    print(y)\n",
    "except ZeroDivisionError:\n",
    "    print(\"You cannot divide by zero, sorry.\")\n",
    "except ValueError:\n",
    "    print(\"You must enter an integer value.\")\n",
    "except:\n",
    "    print(\"Oh dear, something went wrong...\")\n",
    "print(\"THE END.\")\n",
    "\n",
    "# Python tiene 63 excepciones predefinidas\n"
   ]
  },
  {
   "cell_type": "markdown",
   "id": "98db2d43",
   "metadata": {},
   "source": [
    "Exception\n",
    "StopIteration\n",
    "ArithmeticError\n",
    "FloatingPointError\n",
    "OverflowError\n",
    "ZeroDivisionError\n",
    "AssertionError\n",
    "AttributeError\n",
    "BufferError\n",
    "EOFError\n",
    "ImportError\n",
    "LookupError\n",
    "IndexError\n",
    "KeyError\n",
    "MemoryError\n",
    "NameError\n",
    "UnboundLocalError\n",
    "OSError\n",
    "BlockingIOError\n",
    "ChildProcessError\n",
    "ConnectionError\n",
    "BrokenPipeError\n",
    "ConnectionAbortedError\n",
    "ConnectionRefusedError\n",
    "ConnectionResetError\n",
    "FileNotFoundError\n",
    "InterruptedError\n",
    "IsADirectoryError\n",
    "NotADirectoryError\n",
    "PermissionError\n",
    "ProcessLookupError\n",
    "TimeoutError\n",
    "ReferenceError\n",
    "RuntimeError\n",
    "NotImplementedError\n",
    "SyntaxError\n",
    "IndentationError\n",
    "TabError\n",
    "SystemError\n",
    "TypeError\n",
    "ValueError\n",
    "UnicodeError\n",
    "UnicodeDecodeError\n",
    "UnicodeEncodeError\n",
    "UnicodeTranslateError\n",
    "Warning\n",
    "DeprecationWarning\n",
    "PendingDeprecationWarning\n",
    "RuntimeWarning\n",
    "SyntaxWarning\n",
    "UserWarning\n",
    "FutureWarning\n",
    "ImportWarning\n",
    "UnicodeWarning\n",
    "BytesWarning\n",
    "ResourceWarning\n",
    "EnvironmentError\n",
    "IOError\n",
    "VMSError\n",
    "WindowsError\n",
    "ZeroDivisionError\n",
    "SystemExit\n",
    "KeyboardInterrupt"
   ]
  },
  {
   "cell_type": "code",
   "execution_count": 5,
   "id": "0a1e42b8",
   "metadata": {},
   "outputs": [
    {
     "name": "stdout",
     "output_type": "stream",
     "text": [
      "Arithmetic problem!\n",
      "THE END.\n"
     ]
    }
   ],
   "source": [
    "try:\n",
    "    y = 1 / 0\n",
    "except ArithmeticError:\n",
    "    print(\"Arithmetic problem!\")\n",
    "except ZeroDivisionError:\n",
    "    print(\"Zero Division!\")\n",
    "\n",
    "print(\"THE END.\")"
   ]
  },
  {
   "cell_type": "markdown",
   "id": "8fb76bdf",
   "metadata": {},
   "source": [
    "## Raise, assert y ejercicios de manejo de exceptions"
   ]
  },
  {
   "cell_type": "code",
   "execution_count": null,
   "id": "3530ad6c",
   "metadata": {},
   "outputs": [],
   "source": [
    "numero = 10\n",
    "maximo=5\n",
    "if numero > maximo:\n",
    "    raise Exception('El número a ingresar no debe ser mayor que {} . el valor ingresado fue: {}'.format(maximo,numero))"
   ]
  },
  {
   "cell_type": "code",
   "execution_count": null,
   "id": "1a50d5b6",
   "metadata": {},
   "outputs": [],
   "source": [
    "def badFun(n):\n",
    "    try:\n",
    "        return n / 0\n",
    "    except:\n",
    "        print(\"Error en cualquier parte\")\n",
    "        raise \n",
    "try:\n",
    "    badFun(0)\n",
    "except ArithmeticError:\n",
    "    print(\"Error lanzado por raise\")\n",
    "print(\"THE END.\")"
   ]
  },
  {
   "cell_type": "markdown",
   "id": "f85da0ed",
   "metadata": {},
   "source": [
    "## Ejercicios de manejo de exceptions"
   ]
  },
  {
   "cell_type": "code",
   "execution_count": 6,
   "id": "a2fa32ec",
   "metadata": {},
   "outputs": [
    {
     "name": "stdout",
     "output_type": "stream",
     "text": [
      "Una de las importaciones ha fallado!!\n"
     ]
    }
   ],
   "source": [
    "try:\n",
    "    import math\n",
    "    import time\n",
    "    import abracadabra\n",
    "except:\n",
    "    print(\"Una de las importaciones ha fallado!!\")"
   ]
  },
  {
   "cell_type": "code",
   "execution_count": 7,
   "id": "d9a9eec4",
   "metadata": {},
   "outputs": [
    {
     "name": "stdout",
     "output_type": "stream",
     "text": [
      "2.718281828459045\n",
      "7.38905609893065\n",
      "54.598150033144236\n",
      "2980.9579870417283\n",
      "8886110.520507872\n",
      "78962960182680.69\n",
      "6.235149080811617e+27\n",
      "3.8877084059945954e+55\n",
      "1.5114276650041035e+111\n",
      "2.2844135865397565e+222\n",
      "El número es demasiado grande\n"
     ]
    }
   ],
   "source": [
    "from math import exp\n",
    "ex=1\n",
    "try:\n",
    "    while True:\n",
    "        print(exp(ex))\n",
    "        ex*=2\n",
    "except OverflowError:\n",
    "    print(\"El número es demasiado grande\")"
   ]
  },
  {
   "cell_type": "code",
   "execution_count": 8,
   "id": "aebc7b29",
   "metadata": {},
   "outputs": [
    {
     "name": "stdout",
     "output_type": "stream",
     "text": [
      "Todo salió bien\n",
      "0.5\n",
      "División fallida\n",
      "None\n"
     ]
    }
   ],
   "source": [
    "def reciproco(n):\n",
    "    try:\n",
    "        n = 1 / n\n",
    "    except ZeroDivisionError:\n",
    "        print(\"División fallida\")\n",
    "        return None\n",
    "    else:\n",
    "        print(\"Todo salió bien\")\n",
    "        return n\n",
    "\n",
    "print(reciproco(2))\n",
    "print(reciproco(0))"
   ]
  },
  {
   "cell_type": "code",
   "execution_count": 9,
   "id": "d7f1aa50",
   "metadata": {},
   "outputs": [
    {
     "name": "stdout",
     "output_type": "stream",
     "text": [
      "Todo salió bien\n",
      "Es el momento de decir adiós\n",
      "0.5\n",
      "División fallida\n",
      "Es el momento de decir adiós\n",
      "None\n"
     ]
    }
   ],
   "source": [
    "def reciproco(n):\n",
    "    try:\n",
    "        n = 1 / n\n",
    "    except ZeroDivisionError:\n",
    "        print(\"División fallida\")\n",
    "        n = None\n",
    "    else:\n",
    "        print(\"Todo salió bien\")\n",
    "    finally:\n",
    "        print(\"Es el momento de decir adiós\")\n",
    "        return n\n",
    "\n",
    "print(reciproco(2))\n",
    "print(reciproco(0))"
   ]
  },
  {
   "cell_type": "code",
   "execution_count": 10,
   "id": "77c68f5b",
   "metadata": {},
   "outputs": [
    {
     "name": "stdout",
     "output_type": "stream",
     "text": [
      "1\n",
      "2\n",
      "3\n",
      "4\n",
      "5\n",
      "Listo\n"
     ]
    }
   ],
   "source": [
    "lista = [1, 2, 3, 4, 5]\n",
    "ix = 0\n",
    "doit = True\n",
    "\n",
    "while doit:\n",
    "    try:\n",
    "        print(lista[ix])\n",
    "        ix += 1\n",
    "    except IndexError:\n",
    "        doit = False\n",
    "\n",
    "print('Listo')"
   ]
  },
  {
   "cell_type": "code",
   "execution_count": null,
   "id": "5be46e64",
   "metadata": {},
   "outputs": [
    {
     "name": "stdout",
     "output_type": "stream",
     "text": [
      "0\n",
      "1\n",
      "2\n",
      "3\n",
      "4\n",
      "5\n",
      "6\n",
      "7\n",
      "8\n",
      "9\n",
      "10\n",
      "¡No hagas eso!\n",
      "11\n",
      "12\n",
      "13\n",
      "14\n",
      "¡No hagas eso!\n",
      "15\n",
      "16\n"
     ]
    }
   ],
   "source": [
    "from time import sleep\n",
    "seconds = 0\n",
    "while True:\n",
    "    try:\n",
    "        print(seconds)\n",
    "        seconds += 1\n",
    "        sleep(1)\n",
    "    except KeyboardInterrupt:\n",
    "        print(\"¡No hagas eso!\")"
   ]
  },
  {
   "cell_type": "code",
   "execution_count": null,
   "id": "d37ba174",
   "metadata": {},
   "outputs": [],
   "source": [
    "string = 'x'\n",
    "try:\n",
    "    while True:\n",
    "        string = string + string\n",
    "        print(len(string))\n",
    "except MemoryError:\n",
    "    print('¡Esto no es gracioso!')"
   ]
  },
  {
   "cell_type": "code",
   "execution_count": null,
   "id": "bd652014",
   "metadata": {},
   "outputs": [],
   "source": [
    "dict = { 'a' : 'b', 'b' : 'c', 'c' : 'd' }\n",
    "ch = 'a'\n",
    "try:\n",
    "    while True:\n",
    "        ch = dict[ch]\n",
    "        print(ch)\n",
    "except KeyError:\n",
    "    print('No existe tal clave:', ch)"
   ]
  },
  {
   "cell_type": "code",
   "execution_count": 12,
   "id": "1141c3d3",
   "metadata": {},
   "outputs": [
    {
     "name": "stdout",
     "output_type": "stream",
     "text": [
      "Ingrese el número: 90\n",
      "El número no está en el rango permitido [-10  10]\n"
     ]
    }
   ],
   "source": [
    "def readint(prompt, min, max):\n",
    "    if prompt>=-10 and prompt<=10:\n",
    "        print(f'El número es {prompt}')\n",
    "    else:\n",
    "        print(f'El número no está en el rango permitido [{min}  {max}]')\n",
    "\n",
    "    \n",
    "try:\n",
    "    num= int(input(\"Ingrese el número: \"))\n",
    "    readint(num,-10,10)\n",
    "except ValueError:\n",
    "    print(\"Error en el ingreso\")\n",
    "\n",
    "\n"
   ]
  },
  {
   "cell_type": "code",
   "execution_count": null,
   "id": "46db1a9e",
   "metadata": {},
   "outputs": [],
   "source": [
    "def validarNumero(prompt, min, max):\n",
    "    while (True):\n",
    "        try:\n",
    "            print(\"Ingrese un valor entre \",min,\" y \",max)\n",
    "            x = int(input(prompt))\n",
    "            assert x >= min and x <= max\n",
    "            return x\n",
    "        \n",
    "        except ValueError:\n",
    "            print(\"Ingresar solo numeros\")\n",
    "        except:\n",
    "            print(\"Error, el valor debe estar dentro del RANGO \")\n",
    "    \n",
    "v = validarNumero(\"Ingrese un valor en el rango:\", -100, 100)\n",
    "\n",
    "print(\"El número es:\", v)"
   ]
  },
  {
   "cell_type": "markdown",
   "id": "a17c5570",
   "metadata": {},
   "source": [
    "## POO"
   ]
  },
  {
   "attachments": {
    "image.png": {
     "image/png": "[encoded data removed]"
    }
   },
   "cell_type": "markdown",
   "id": "3ad24670",
   "metadata": {},
   "source": [
    "![image.png](attachment:image.png)"
   ]
  },
  {
   "cell_type": "code",
   "execution_count": 27,
   "id": "f156a62c",
   "metadata": {},
   "outputs": [
    {
     "name": "stdout",
     "output_type": "stream",
     "text": [
      "Hola mi nombre es Byron\n",
      "La edad de la persona es 33\n",
      "Mi nombre ha sido cambiado a Tosh.\n"
     ]
    },
    {
     "data": {
      "text/plain": [
       "True"
      ]
     },
     "execution_count": 27,
     "metadata": {},
     "output_type": "execute_result"
    }
   ],
   "source": [
    "class Auto:\n",
    "    def __init__(self,name,edad):\n",
    "        self.name=name\n",
    "        self.edad=edad\n",
    "        \n",
    "    def saludar(self):\n",
    "        print(f'Hola mi nombre es {self.name}')\n",
    "        \n",
    "    def sumar_edad(self):\n",
    "        self.edad+=1\n",
    "        print(f'La edad de la persona es {self.edad}')\n",
    "  \n",
    "    def cambiar_nombre(self, nuevo_nombre):\n",
    "        self.nombre = nuevo_nombre\n",
    "        print(f\"Mi nombre ha sido cambiado a {self.nombre}.\")\n",
    "\n",
    "    def es_mayor_de_edad(self):\n",
    "        if self.edad >= 18:\n",
    "            return True\n",
    "        else:\n",
    "            return False\n",
    "\n",
    "objeto1 = Auto(\"Byron\",32)\n",
    "\n",
    "\n",
    "objeto1.saludar()\n",
    "objeto1.sumar_edad()\n",
    "objeto1.cambiar_nombre(\"Tosh\")\n",
    "objeto1.es_mayor_de_edad()\n",
    "\n"
   ]
  },
  {
   "cell_type": "code",
   "execution_count": 28,
   "id": "8027a83f",
   "metadata": {},
   "outputs": [],
   "source": [
    "class Magnitud:\n",
    "    def __init__(self,valor):\n",
    "        self.valor = valor\n",
    "        \n",
    "class Temperatura(Magnitud):\n",
    "    def kelvinCelsius(self):\n",
    "        self.valor =  self.valor -273.1\n",
    "        return self.valor\n",
    "    def FarengeiCelsius(self):\n",
    "        self.valor = self.valor-32*5/9\n",
    "        return self.valor\n",
    "    def kelvinFarengei(self):\n",
    "        self.valor = self.valor-273*1.8+32\n",
    "        return  self.valor\n",
    "\n",
    "class Longitud(Magnitud):\n",
    "    def centimetrosPulgada(self):\n",
    "        self.valor =  self.valor / 2.54\n",
    "        return self.valor\n",
    "\n",
    "class Masa(Magnitud):\n",
    "    def libraTonelada(self):\n",
    "        self.valor =  self.valor / 2205\n",
    "        return self.valor\n"
   ]
  },
  {
   "cell_type": "code",
   "execution_count": 30,
   "id": "e8e90f17",
   "metadata": {},
   "outputs": [
    {
     "name": "stdout",
     "output_type": "stream",
     "text": [
      "Seleccione una opcion \n",
      " 1.Temperatura \n",
      " 2.Longitud \n",
      " 3.Masa \n",
      "5\n",
      "Ingrese el valor a convertir \n",
      "7\n"
     ]
    }
   ],
   "source": [
    "# from magnitudes import Temperatura , Masa , Longitud\n",
    "\n",
    "opcion = input(\"Seleccione una opcion \\n 1.Temperatura \\n 2.Longitud \\n 3.Masa \\n\")\n",
    "\n",
    "valor = input(\"Ingrese el valor a convertir \\n\")\n",
    "\n",
    "if(opcion == \"1\"):\n",
    "   \"\"\" op= input(\"seleccione una opciion \\n 1.kelvin-celsuis \\n\n",
    "   2.fahrenheit-celsuis \\n 3.kelvin-fahrenheit \\n\")\n",
    "    if (op==\"1\"):\"\"\" \n",
    "   obj = Temperatura(float(valor));\n",
    "   print(\"Kelvin a Celsius \" , obj.kelvinCelsius())\n",
    "   \n",
    "if(opcion==\"2\"):\n",
    "    obj = Longitud(float(valor));\n",
    "    print(\"Centimetro a Pulgada \" , obj.centimetrosPulgada())\n",
    "\n",
    "if(opcion==\"3\"):\n",
    "    obj = Masa(float(valor));\n",
    "    print(\"Libra a Tonelada \" , obj.libraTonelada())"
   ]
  },
  {
   "cell_type": "markdown",
   "id": "dad70521",
   "metadata": {},
   "source": [
    "## Archivos"
   ]
  },
  {
   "cell_type": "code",
   "execution_count": 4,
   "id": "9d9eff7f",
   "metadata": {},
   "outputs": [
    {
     "name": "stdout",
     "output_type": "stream",
     "text": [
      "La salida del archivo es:\n",
      "\n",
      "Cisco 819 Router\n",
      "Cisco 881 Router\n",
      "Cisco 888 Router\n",
      "Cisco 1100 Router\n",
      "Cisco 4321 Router\n",
      "Cisco 4331 Router\n",
      "Cisco 4351 Router\n",
      "Cisco 2960 Catalyst Switch\n",
      "Cisco 3850 Catalyst Switch\n",
      "Cisco 7700 Nexus Switch\n",
      "Cisco Meraki MS220-8 Cloud Managed Switch\n",
      "Cisco Meraki MX64W Security Appliance\n",
      "Cisco Meraki MX84 Security Appliance\n",
      "Cisco Meraki MC74 VoIP Phone\n",
      "Cisco 3860 Catalyst Switchtest\n"
     ]
    }
   ],
   "source": [
    "lista =[]\n",
    "file=open(\"devices.txt\")\n",
    "print(\"La salida del archivo es:\\n\")\n",
    "for item in file:\n",
    "    item = item.strip()\n",
    "    lista.append(item)\n",
    "    print(item)\n",
    "    \n",
    "file.close()"
   ]
  },
  {
   "cell_type": "code",
   "execution_count": 3,
   "id": "d1172052",
   "metadata": {},
   "outputs": [
    {
     "name": "stdout",
     "output_type": "stream",
     "text": [
      "Ingrese nuevo dispositivo: test\n",
      "Ingrese nuevo dispositivo: exit\n",
      "Ok!\n"
     ]
    }
   ],
   "source": [
    "file = open(\"devices.txt\", \"a\")\n",
    "while True:\n",
    "    newItem = input(\"Ingrese nuevo dispositivo: \")\n",
    "    if newItem == \"exit\":\n",
    "        print(\"Ok!\")\n",
    "        break\n",
    "    file.write(newItem + \"\\n\")\n",
    "file.close()"
   ]
  },
  {
   "cell_type": "code",
   "execution_count": 5,
   "id": "29570cd8",
   "metadata": {},
   "outputs": [
    {
     "name": "stdout",
     "output_type": "stream",
     "text": [
      "La salida del archivo es:\n",
      "\n",
      "Cisco 819 Router\n",
      "Cisco 881 Router\n",
      "Cisco 888 Router\n",
      "Cisco 1100 Router\n",
      "Cisco 4321 Router\n",
      "Cisco 4331 Router\n",
      "Cisco 4351 Router\n",
      "Cisco 2960 Catalyst Switch\n",
      "Cisco 3850 Catalyst Switch\n",
      "Cisco 7700 Nexus Switch\n",
      "Cisco Meraki MS220-8 Cloud Managed Switch\n",
      "Cisco Meraki MX64W Security Appliance\n",
      "Cisco Meraki MX84 Security Appliance\n",
      "Cisco Meraki MC74 VoIP Phone\n",
      "Cisco 3860 Catalyst Switchtest\n"
     ]
    }
   ],
   "source": [
    "lista =[]\n",
    "file=open(\"devices.txt\")\n",
    "print(\"La salida del archivo es:\\n\")\n",
    "for item in file:\n",
    "    item = item.strip()\n",
    "    lista.append(item)\n",
    "    print(item)\n",
    "    \n",
    "file.close()"
   ]
  },
  {
   "cell_type": "markdown",
   "id": "b4160a06",
   "metadata": {},
   "source": [
    "## APIS"
   ]
  },
  {
   "attachments": {
    "image.png": {
     "image/png": "[encoded data removed]"
    }
   },
   "cell_type": "markdown",
   "id": "a2e36f8f",
   "metadata": {},
   "source": [
    "![image.png](attachment:image.png)"
   ]
  },
  {
   "cell_type": "code",
   "execution_count": 6,
   "id": "7b41eea4",
   "metadata": {},
   "outputs": [
    {
     "name": "stdout",
     "output_type": "stream",
     "text": [
      "Starting Location: Quito\n",
      "Destination: Ambato\n",
      "URL: https://www.mapquestapi.com/directions/v2/route?key=xA99tHG7ljF6YtLqN6jL8n4MFTY9J3Su&from=Quito&to=Ambato\n",
      "API Status: 0 = A successful route call.\n",
      "\n",
      "Directions from Quito to Ambato\n",
      "Trip Duration:   02:03:48\n",
      "Kilometers:      135.78\n",
      "=============================================\n",
      "Head southwest on Universitaria. Go for 118 ft. (0.04 km)\n",
      "Take the 2nd exit from Universitaria roundabout onto Universitaria. Go for 0.1 mi. (0.21 km)\n",
      "Take left ramp onto Avenida Mariscal Sucre. Go for 1.4 mi. (2.24 km)\n",
      "Turn left onto Calle 24 de Mayo. Go for 1.0 mi. (1.66 km)\n",
      "Turn right onto Cumanda. Go for 0.2 mi. (0.36 km)\n",
      "Turn right onto Calle Alberto de Larrea. Go for 253 ft. (0.08 km)\n",
      "Continue on Velasco Ibarra. Go for 266 ft. (0.08 km)\n",
      "Continue on Velasco Ibarra. Go for 0.3 mi. (0.52 km)\n",
      "Turn left onto Calle Napo. Go for 430 ft. (0.13 km)\n",
      "Turn right onto Calle Pedro Pinto Guzmán. Go for 0.2 mi. (0.29 km)\n",
      "Turn right onto Calle Juan Bautista Aguirre. Go for 1.1 mi. (1.84 km)\n",
      "Turn right onto Calle S6B. Go for 446 ft. (0.14 km)\n",
      "Turn right onto Calle Simón Bolívar. Go for 3.0 mi. (4.75 km)\n",
      "Continue on Simón Bolívar. Go for 0.3 mi. (0.43 km)\n",
      "Continue on Calle Simón Bolívar. Go for 0.2 mi. (0.31 km)\n",
      "Keep left toward Aloag/Sto. Domingo/Latacunga/Ambato. Go for 0.3 mi. (0.43 km)\n",
      "Continue on Calle Simón Bolívar. Go for 138 ft. (0.04 km)\n",
      "Continue on Simón Bolívar. Go for 0.1 mi. (0.22 km)\n",
      "Continue on Calle Simón Bolívar. Go for 0.2 mi. (0.40 km)\n",
      "Continue on Simón Bolívar. Go for 0.6 mi. (0.97 km)\n",
      "Continue on Calle Simón Bolívar. Go for 1.5 mi. (2.44 km)\n",
      "Continue on Simón Bolívar. Go for 0.8 mi. (1.34 km)\n",
      "Continue on Calle Simón Bolívar. Go for 2.1 mi. (3.44 km)\n",
      "Continue on Simón Bolívar. Go for 2.1 mi. (3.39 km)\n",
      "Continue on E35. Go for 5.3 mi. (8.52 km)\n",
      "Continue on 12 (E20). Go for 0.7 mi. (1.13 km)\n",
      "Continue on E35. Go for 35.9 mi. (57.85 km)\n",
      "Keep left onto E35 toward Salcedo/Ambato/Riobamba. Go for 22.8 mi. (36.78 km)\n",
      "Turn right onto E35. Go for 1.4 mi. (2.27 km)\n",
      "Turn left onto Julián Coronel toward Feria Calzado. Go for 0.3 mi. (0.44 km)\n",
      "Continue on Colombia. Go for 0.3 mi. (0.47 km)\n",
      "Turn right onto Avenida de las Américas. Go for 443 ft. (0.14 km)\n",
      "Take the 2nd exit from roundabout onto Gonzáles Suárez. Go for 0.2 mi. (0.38 km)\n",
      "Take the 3rd exit from roundabout onto El Rey. Go for 0.6 mi. (1.02 km)\n",
      "Continue on Archidona. Go for 502 ft. (0.15 km)\n",
      "Continue on Calle Milagro. Go for 75 ft. (0.02 km)\n",
      "Continue on Urdaneta. Go for 492 ft. (0.15 km)\n",
      "Continue on Quis Quis. Go for 0.4 mi. (0.71 km)\n",
      "Arrive at Quis Quis. (0.00 km)\n",
      "=============================================\n",
      "\n",
      "Starting Location: Quito\n",
      "Destination: Ambato\n",
      "URL: https://www.mapquestapi.com/directions/v2/route?key=xA99tHG7ljF6YtLqN6jL8n4MFTY9J3Su&from=Quito&to=Ambato\n",
      "API Status: 0 = A successful route call.\n",
      "\n",
      "Directions from Quito to Ambato\n",
      "Trip Duration:   02:03:48\n",
      "Kilometers:      135.78\n",
      "=============================================\n",
      "Head southwest on Universitaria. Go for 118 ft. (0.04 km)\n",
      "Take the 2nd exit from Universitaria roundabout onto Universitaria. Go for 0.1 mi. (0.21 km)\n",
      "Take left ramp onto Avenida Mariscal Sucre. Go for 1.4 mi. (2.24 km)\n",
      "Turn left onto Calle 24 de Mayo. Go for 1.0 mi. (1.66 km)\n",
      "Turn right onto Cumanda. Go for 0.2 mi. (0.36 km)\n",
      "Turn right onto Calle Alberto de Larrea. Go for 253 ft. (0.08 km)\n",
      "Continue on Velasco Ibarra. Go for 266 ft. (0.08 km)\n",
      "Continue on Velasco Ibarra. Go for 0.3 mi. (0.52 km)\n",
      "Turn left onto Calle Napo. Go for 430 ft. (0.13 km)\n",
      "Turn right onto Calle Pedro Pinto Guzmán. Go for 0.2 mi. (0.29 km)\n",
      "Turn right onto Calle Juan Bautista Aguirre. Go for 1.1 mi. (1.84 km)\n",
      "Turn right onto Calle S6B. Go for 446 ft. (0.14 km)\n",
      "Turn right onto Calle Simón Bolívar. Go for 3.0 mi. (4.75 km)\n",
      "Continue on Simón Bolívar. Go for 0.3 mi. (0.43 km)\n",
      "Continue on Calle Simón Bolívar. Go for 0.2 mi. (0.31 km)\n",
      "Keep left toward Aloag/Sto. Domingo/Latacunga/Ambato. Go for 0.3 mi. (0.43 km)\n",
      "Continue on Calle Simón Bolívar. Go for 138 ft. (0.04 km)\n",
      "Continue on Simón Bolívar. Go for 0.1 mi. (0.22 km)\n",
      "Continue on Calle Simón Bolívar. Go for 0.2 mi. (0.40 km)\n",
      "Continue on Simón Bolívar. Go for 0.6 mi. (0.97 km)\n",
      "Continue on Calle Simón Bolívar. Go for 1.5 mi. (2.44 km)\n",
      "Continue on Simón Bolívar. Go for 0.8 mi. (1.34 km)\n",
      "Continue on Calle Simón Bolívar. Go for 2.1 mi. (3.44 km)\n",
      "Continue on Simón Bolívar. Go for 2.1 mi. (3.39 km)\n",
      "Continue on E35. Go for 5.3 mi. (8.52 km)\n",
      "Continue on 12 (E20). Go for 0.7 mi. (1.13 km)\n",
      "Continue on E35. Go for 35.9 mi. (57.85 km)\n",
      "Keep left onto E35 toward Salcedo/Ambato/Riobamba. Go for 22.8 mi. (36.78 km)\n",
      "Turn right onto E35. Go for 1.4 mi. (2.27 km)\n",
      "Turn left onto Julián Coronel toward Feria Calzado. Go for 0.3 mi. (0.44 km)\n",
      "Continue on Colombia. Go for 0.3 mi. (0.47 km)\n",
      "Turn right onto Avenida de las Américas. Go for 443 ft. (0.14 km)\n",
      "Take the 2nd exit from roundabout onto Gonzáles Suárez. Go for 0.2 mi. (0.38 km)\n",
      "Take the 3rd exit from roundabout onto El Rey. Go for 0.6 mi. (1.02 km)\n",
      "Continue on Archidona. Go for 502 ft. (0.15 km)\n",
      "Continue on Calle Milagro. Go for 75 ft. (0.02 km)\n",
      "Continue on Urdaneta. Go for 492 ft. (0.15 km)\n",
      "Continue on Quis Quis. Go for 0.4 mi. (0.71 km)\n",
      "Arrive at Quis Quis. (0.00 km)\n",
      "=============================================\n",
      "\n",
      "Starting Location: quito\n",
      "Destination: quito\n",
      "URL: https://www.mapquestapi.com/directions/v2/route?key=xA99tHG7ljF6YtLqN6jL8n4MFTY9J3Su&from=quito&to=quito\n",
      "API Status: 0 = A successful route call.\n",
      "\n",
      "Directions from quito to quito\n",
      "Trip Duration:   00:00:00\n",
      "Kilometers:      0.00\n",
      "=============================================\n",
      "Head north on Universitaria. (0.00 km)\n",
      "Arrive at Universitaria. Your destination is on the right. (0.00 km)\n",
      "=============================================\n",
      "\n"
     ]
    },
    {
     "ename": "KeyboardInterrupt",
     "evalue": "Interrupted by user",
     "output_type": "error",
     "traceback": [
      "\u001b[1;31m---------------------------------------------------------------------------\u001b[0m",
      "\u001b[1;31mKeyboardInterrupt\u001b[0m                         Traceback (most recent call last)",
      "Cell \u001b[1;32mIn[6], line 7\u001b[0m\n\u001b[0;32m      5\u001b[0m key \u001b[38;5;241m=\u001b[39m \u001b[38;5;124m\"\u001b[39m\u001b[38;5;124mxA99tHG7ljF6YtLqN6jL8n4MFTY9J3Su\u001b[39m\u001b[38;5;124m\"\u001b[39m\n\u001b[0;32m      6\u001b[0m \u001b[38;5;28;01mwhile\u001b[39;00m \u001b[38;5;28;01mTrue\u001b[39;00m:\n\u001b[1;32m----> 7\u001b[0m     orig \u001b[38;5;241m=\u001b[39m \u001b[38;5;28;43minput\u001b[39;49m\u001b[43m(\u001b[49m\u001b[38;5;124;43m\"\u001b[39;49m\u001b[38;5;124;43mStarting Location: \u001b[39;49m\u001b[38;5;124;43m\"\u001b[39;49m\u001b[43m)\u001b[49m\n\u001b[0;32m      8\u001b[0m     \u001b[38;5;28;01mif\u001b[39;00m orig \u001b[38;5;241m==\u001b[39m \u001b[38;5;124m\"\u001b[39m\u001b[38;5;124mquit\u001b[39m\u001b[38;5;124m\"\u001b[39m \u001b[38;5;129;01mor\u001b[39;00m orig \u001b[38;5;241m==\u001b[39m \u001b[38;5;124m\"\u001b[39m\u001b[38;5;124mq\u001b[39m\u001b[38;5;124m\"\u001b[39m:\n\u001b[0;32m      9\u001b[0m         \u001b[38;5;28;01mbreak\u001b[39;00m\n",
      "File \u001b[1;32m~\\anaconda3\\lib\\site-packages\\ipykernel\\kernelbase.py:1175\u001b[0m, in \u001b[0;36mKernel.raw_input\u001b[1;34m(self, prompt)\u001b[0m\n\u001b[0;32m   1171\u001b[0m \u001b[38;5;28;01mif\u001b[39;00m \u001b[38;5;129;01mnot\u001b[39;00m \u001b[38;5;28mself\u001b[39m\u001b[38;5;241m.\u001b[39m_allow_stdin:\n\u001b[0;32m   1172\u001b[0m     \u001b[38;5;28;01mraise\u001b[39;00m StdinNotImplementedError(\n\u001b[0;32m   1173\u001b[0m         \u001b[38;5;124m\"\u001b[39m\u001b[38;5;124mraw_input was called, but this frontend does not support input requests.\u001b[39m\u001b[38;5;124m\"\u001b[39m\n\u001b[0;32m   1174\u001b[0m     )\n\u001b[1;32m-> 1175\u001b[0m \u001b[38;5;28;01mreturn\u001b[39;00m \u001b[38;5;28;43mself\u001b[39;49m\u001b[38;5;241;43m.\u001b[39;49m\u001b[43m_input_request\u001b[49m\u001b[43m(\u001b[49m\n\u001b[0;32m   1176\u001b[0m \u001b[43m    \u001b[49m\u001b[38;5;28;43mstr\u001b[39;49m\u001b[43m(\u001b[49m\u001b[43mprompt\u001b[49m\u001b[43m)\u001b[49m\u001b[43m,\u001b[49m\n\u001b[0;32m   1177\u001b[0m \u001b[43m    \u001b[49m\u001b[38;5;28;43mself\u001b[39;49m\u001b[38;5;241;43m.\u001b[39;49m\u001b[43m_parent_ident\u001b[49m\u001b[43m[\u001b[49m\u001b[38;5;124;43m\"\u001b[39;49m\u001b[38;5;124;43mshell\u001b[39;49m\u001b[38;5;124;43m\"\u001b[39;49m\u001b[43m]\u001b[49m\u001b[43m,\u001b[49m\n\u001b[0;32m   1178\u001b[0m \u001b[43m    \u001b[49m\u001b[38;5;28;43mself\u001b[39;49m\u001b[38;5;241;43m.\u001b[39;49m\u001b[43mget_parent\u001b[49m\u001b[43m(\u001b[49m\u001b[38;5;124;43m\"\u001b[39;49m\u001b[38;5;124;43mshell\u001b[39;49m\u001b[38;5;124;43m\"\u001b[39;49m\u001b[43m)\u001b[49m\u001b[43m,\u001b[49m\n\u001b[0;32m   1179\u001b[0m \u001b[43m    \u001b[49m\u001b[43mpassword\u001b[49m\u001b[38;5;241;43m=\u001b[39;49m\u001b[38;5;28;43;01mFalse\u001b[39;49;00m\u001b[43m,\u001b[49m\n\u001b[0;32m   1180\u001b[0m \u001b[43m\u001b[49m\u001b[43m)\u001b[49m\n",
      "File \u001b[1;32m~\\anaconda3\\lib\\site-packages\\ipykernel\\kernelbase.py:1217\u001b[0m, in \u001b[0;36mKernel._input_request\u001b[1;34m(self, prompt, ident, parent, password)\u001b[0m\n\u001b[0;32m   1214\u001b[0m             \u001b[38;5;28;01mbreak\u001b[39;00m\n\u001b[0;32m   1215\u001b[0m \u001b[38;5;28;01mexcept\u001b[39;00m \u001b[38;5;167;01mKeyboardInterrupt\u001b[39;00m:\n\u001b[0;32m   1216\u001b[0m     \u001b[38;5;66;03m# re-raise KeyboardInterrupt, to truncate traceback\u001b[39;00m\n\u001b[1;32m-> 1217\u001b[0m     \u001b[38;5;28;01mraise\u001b[39;00m \u001b[38;5;167;01mKeyboardInterrupt\u001b[39;00m(\u001b[38;5;124m\"\u001b[39m\u001b[38;5;124mInterrupted by user\u001b[39m\u001b[38;5;124m\"\u001b[39m) \u001b[38;5;28;01mfrom\u001b[39;00m \u001b[38;5;28mNone\u001b[39m\n\u001b[0;32m   1218\u001b[0m \u001b[38;5;28;01mexcept\u001b[39;00m \u001b[38;5;167;01mException\u001b[39;00m:\n\u001b[0;32m   1219\u001b[0m     \u001b[38;5;28mself\u001b[39m\u001b[38;5;241m.\u001b[39mlog\u001b[38;5;241m.\u001b[39mwarning(\u001b[38;5;124m\"\u001b[39m\u001b[38;5;124mInvalid Message:\u001b[39m\u001b[38;5;124m\"\u001b[39m, exc_info\u001b[38;5;241m=\u001b[39m\u001b[38;5;28;01mTrue\u001b[39;00m)\n",
      "\u001b[1;31mKeyboardInterrupt\u001b[0m: Interrupted by user"
     ]
    }
   ],
   "source": [
    "import urllib.parse\n",
    "import requests\n",
    "\n",
    "main_api = \"https://www.mapquestapi.com/directions/v2/route?\"\n",
    "key = \"xA99tHG7ljF6YtLqN6jL8n4MFTY9J3Su\"\n",
    "while True:\n",
    "    orig = input(\"Starting Location: \")\n",
    "    if orig == \"quit\" or orig == \"q\":\n",
    "        break\n",
    "\n",
    "    dest = input(\"Destination: \")\n",
    "    if dest == \"quit\" or dest == \"q\":\n",
    "        break\n",
    "\n",
    "    url = main_api + urllib.parse.urlencode({\"key\": key, \"from\":orig, \"to\":dest})\n",
    "    print(\"URL: \" + (url))\n",
    "\n",
    "    json_data = requests.get(url).json()\n",
    "    json_status = json_data[\"info\"][\"statuscode\"]\n",
    "\n",
    "    if json_status == 0:\n",
    "        print(\"API Status: \" + str(json_status) + \" = A successful route call.\\n\")\n",
    "        print(\"Directions from \" + (orig) + \" to \" + (dest))\n",
    "        print(\"Trip Duration:   \" + (json_data[\"route\"][\"formattedTime\"]))\n",
    "        print(\"Kilometers:      \" + str(\"{:.2f}\".format((json_data[\"route\"][\"distance\"])*1.61)))\n",
    "        print(\"=============================================\")\n",
    "        for each in json_data[\"route\"][\"legs\"][0][\"maneuvers\"]:\n",
    "            print((each[\"narrative\"]) + \" (\" + str(\"{:.2f}\".format((each[\"distance\"])*1.61) + \" km)\"))\n",
    "        print(\"=============================================\\n\")\n",
    "    elif json_status == 402:\n",
    "        print(\"\\n****************************************************************\")\n",
    "        print(\"Status Code: \" + str(json_status) + \"; Invalid user inputs for one or both locations.\")\n",
    "        print(\"****************************************************************\\n\")\n",
    "    else:\n",
    "        print(\"\\n************************************************************************\")\n",
    "        print(\"Status Code: \" + str(json_status) + \"; Refer to:\")\n",
    "        print(\"https://developer.mapquest.com/documentation/directions-api/status-codes\")\n",
    "        print(\"************************************************************************\\n\")"
   ]
  },
  {
   "cell_type": "markdown",
   "id": "47de9eec",
   "metadata": {},
   "source": [
    "## Numpy"
   ]
  },
  {
   "cell_type": "code",
   "execution_count": 7,
   "id": "3d4fad0c",
   "metadata": {},
   "outputs": [
    {
     "name": "stdout",
     "output_type": "stream",
     "text": [
      "2\n"
     ]
    }
   ],
   "source": [
    "import numpy as np\n",
    "a = np.array([(1,2,3),(4,5,6)])\n",
    "print(a.ndim)"
   ]
  },
  {
   "cell_type": "code",
   "execution_count": null,
   "id": "d630e8a7",
   "metadata": {},
   "outputs": [],
   "source": []
  }
 ],
 "metadata": {
  "kernelspec": {
   "display_name": "Python 3 (ipykernel)",
   "language": "python",
   "name": "python3"
  },
  "language_info": {
   "codemirror_mode": {
    "name": "ipython",
    "version": 3
   },
   "file_extension": ".py",
   "mimetype": "text/x-python",
   "name": "python",
   "nbconvert_exporter": "python",
   "pygments_lexer": "ipython3",
   "version": "3.10.9"
  }
 },
 "nbformat": 4,
 "nbformat_minor": 5
}
